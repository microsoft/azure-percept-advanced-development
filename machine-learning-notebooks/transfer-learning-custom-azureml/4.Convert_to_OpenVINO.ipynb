{
 "cells": [
  {
   "cell_type": "markdown",
   "id": "8acb9a41",
   "metadata": {},
   "source": [
    "Copyright (c) Microsoft Corporation.<br>\n",
    "Licensed under the MIT License.\n",
    "\n",
    "# 4. OpenVINO Conversion\n",
    "\n",
    "IMPORTANT:  The conversion command within this notebook is to be run with Intel's OpenVINO Toolkit docker container.\n",
    "\n",
    "In this notebook we will:\n",
    "- Convert the TensorFlow model to OpenVINO format\n",
    "\n",
    "## Prerequisites\n",
    "- Trained TensorFlow model (frozen graph format) downloaded from the experiment from following `3.Train_with_AzureML.ipynb`\n",
    "\n",
    "More information on OpenVINO toolkit installation can be found at [install and set up the OpenVINO Toolkit](https://docs.openvinotoolkit.org/latest/installation_guides.html)."
   ]
  },
  {
   "cell_type": "markdown",
   "id": "0384cc30",
   "metadata": {},
   "source": [
    "## Convert the model from frozen graph to an intermediate representation and then to a blob format"
   ]
  },
  {
   "cell_type": "markdown",
   "id": "9af5fe92",
   "metadata": {},
   "source": [
    "The following script to be run in the docker container, will convert the TensorFlow frozen graph to the OpenVINO IR format and then to `blob`."
   ]
  },
  {
   "cell_type": "code",
   "execution_count": null,
   "id": "e2135f14",
   "metadata": {},
   "outputs": [],
   "source": [
    "%%writefile experiment_outputs/compile.sh\n",
    "#!/bin/bash\n",
    "\n",
    "# OpenVINO compilation script\n",
    "\n",
    "cd experiment_outputs\n",
    "\n",
    "source /opt/intel/openvino_2021/bin/setupvars.sh\n",
    "\n",
    "python3 /opt/intel/openvino_2021/deployment_tools/model_optimizer/mo_tf.py \\\n",
    "    --input_model frozen_inference_graph.pb \\\n",
    "    --tensorflow_object_detection_api_pipeline_config ../project_files/ssdlite_mobilenet_retrained.config \\\n",
    "    --transformations_config \\\n",
    "    /opt/intel/openvino_2021/deployment_tools/model_optimizer/extensions/front/tf/ssd_v2_support.json \\\n",
    "    --reverse_input_channels > openvino_log1.txt\n",
    "\n",
    "/opt/intel/openvino_2021/deployment_tools/inference_engine/lib/intel64/myriad_compile -m \\\n",
    "    frozen_inference_graph.xml \\\n",
    "    -o ssdlite_mobilenet_v2.blob \\\n",
    "    -VPU_NUMBER_OF_SHAVES 8 \\\n",
    "    -VPU_NUMBER_OF_CMX_SLICES 8 -ip U8 -op FP32 > openvino_log2.txt"
   ]
  },
  {
   "cell_type": "markdown",
   "id": "f4de558b",
   "metadata": {},
   "source": [
    "Here we will use the OpenVINO to leverage the OpenVINO model converters and optimizer.  You may need to replace `$(pwd)` with your current working directory path.  The `xLinkUsb` error in the logs file is expected and should be ignored."
   ]
  },
  {
   "cell_type": "code",
   "execution_count": null,
   "id": "a49157b7",
   "metadata": {},
   "outputs": [],
   "source": [
    "! docker run --rm --privileged -v $(pwd):/working -w /working openvino/ubuntu18_dev:2021.1 bash experiment_outputs/compile.sh"
   ]
  },
  {
   "cell_type": "code",
   "execution_count": null,
   "id": "d4d4a498",
   "metadata": {},
   "outputs": [],
   "source": []
  }
 ],
 "metadata": {
  "kernelspec": {
   "display_name": "Python 3",
   "language": "python",
   "name": "python3"
  },
  "language_info": {
   "codemirror_mode": {
    "name": "ipython",
    "version": 3
   },
   "file_extension": ".py",
   "mimetype": "text/x-python",
   "name": "python",
   "nbconvert_exporter": "python",
   "pygments_lexer": "ipython3",
   "version": "3.8.10"
  }
 },
 "nbformat": 4,
 "nbformat_minor": 5
}
