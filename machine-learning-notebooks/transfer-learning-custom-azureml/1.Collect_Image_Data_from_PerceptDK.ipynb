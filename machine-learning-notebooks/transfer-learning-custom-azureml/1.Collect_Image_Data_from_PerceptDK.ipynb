{
 "cells": [
  {
   "cell_type": "markdown",
   "id": "c7c591d8",
   "metadata": {},
   "source": [
    "Copyright (c) Microsoft Corporation.<br>\n",
    "Licensed under the MIT License.\n",
    "\n",
    "# 1. Collect Data from the Azure Percept DK Vision\n",
    "\n",
    "In this notebook we will:\n",
    "- Learn how to connect to cameras on the dev kit and collect data"
   ]
  },
  {
   "cell_type": "markdown",
   "id": "be06de08",
   "metadata": {},
   "source": [
    "**Prerequisites to run the notebooks if have not completed already**\n",
    "\n",
    "Follow the `readme.md` for information on setting up the Percept DK for this notebook."
   ]
  },
  {
   "cell_type": "code",
   "execution_count": null,
   "id": "5cb16373",
   "metadata": {},
   "outputs": [],
   "source": [
    "import os\n",
    "import threading\n",
    "import time\n",
    "\n",
    "import cv2\n",
    "import matplotlib.pyplot as plt\n",
    "\n",
    "import ipywidgets\n",
    "from IPython.display import display\n",
    "import traitlets\n",
    "\n",
    "from camera.capture_camera import Camera\n",
    "from datasets.dataset import ImageDataset"
   ]
  },
  {
   "cell_type": "markdown",
   "id": "b49a1198",
   "metadata": {},
   "source": [
    "## Helper methods"
   ]
  },
  {
   "cell_type": "code",
   "execution_count": null,
   "id": "28bd829c",
   "metadata": {},
   "outputs": [],
   "source": [
    "# A callback function to update the image in image widget\n",
    "def update_image(change):\n",
    "    \"\"\"Update an image within a traitlets image widget\"\"\"\n",
    "    image = change['new']\n",
    "    image_widget.value = bgr8_to_jpeg(image)"
   ]
  },
  {
   "cell_type": "code",
   "execution_count": null,
   "id": "da38f6ca",
   "metadata": {},
   "outputs": [],
   "source": [
    "def detach_camera(camera):\n",
    "    \"\"\"Method to detach a camera.\"\"\"\n",
    "    try:\n",
    "        camera.running = False\n",
    "        camera.release()\n",
    "    except Exception as err:\n",
    "        print(\"Error with camera object.  Did you specify the RTSP URL correctly?\")\n",
    "    try:\n",
    "        camera.unobserve(update_image, names='value')\n",
    "    except ValueError as err:\n",
    "        print(\"Error calling 'unobserve'.\")"
   ]
  },
  {
   "cell_type": "code",
   "execution_count": null,
   "id": "fb4bdc9a",
   "metadata": {},
   "outputs": [],
   "source": [
    "def bgr8_to_jpeg(frame):\n",
    "    \"\"\"Convert from BGR int8 to jpg format\"\"\"\n",
    "    return bytes(cv2.imencode('.jpg', frame)[1])"
   ]
  },
  {
   "cell_type": "markdown",
   "id": "10886601",
   "metadata": {},
   "source": [
    "## Initialize the camera(s)\n",
    "\n",
    "You must run this to attach your Vision camera (Eye) to the notebook for data collection.  Replace the `<ip-address-of-percept>` with the IP of your Percept DK as you found in the setup of the device (also address you use for SSH).  If the camera object is already associated with a camera it detaches it and the cell must be run again to reassociate it. "
   ]
  },
  {
   "cell_type": "code",
   "execution_count": null,
   "id": "531fe83d",
   "metadata": {},
   "outputs": [],
   "source": [
    "try:\n",
    "    # Camera object from CaptureCamera class\n",
    "    camera1 = Camera(width=816,\n",
    "                     height=616,\n",
    "                     capture_device=\"rtsp://<ip-address-of-percept>:8554/rawTCP\")\n",
    "\n",
    "\n",
    "    # Set camera to running\n",
    "    camera1.running = True\n",
    "    print(\"Camera is now associated with the notebook.\")\n",
    "except Exception as err:\n",
    "    print(\"Camera not created.  Error: {}\".format(err))\n",
    "    print(\"Detaching camera as specified capture_device location.\",\n",
    "          \"Try running cell again.\")\n",
    "    try:\n",
    "        detach_camera(camera1)\n",
    "    except NameError as err:\n",
    "        print('Camera object is not defined.  Did you make sure to:\\n\\\n",
    "               1. On the device, add TCP rule with iptables:  sudo iptables -A INPUT -p tcp --dport 8554 -j ACCEPT\\n\\\n",
    "               2. Add this in the deployment manifest port bindings for Vision Eye module and redeploy modules to device: \"8554/tcp\":[{\"HostPort\":\"8554\"}]')"
   ]
  },
  {
   "cell_type": "markdown",
   "id": "a7a97db6",
   "metadata": {},
   "source": [
    "## Set up for data collection\n",
    "\n",
    "Let's define some variables for setting up data collection.  Update the following as needed to set the label(s) for your object(s)."
   ]
  },
  {
   "cell_type": "code",
   "execution_count": null,
   "id": "c38d6d8a",
   "metadata": {},
   "outputs": [],
   "source": [
    "# Update this as needed - this is also the name of a folder that\n",
    "# gets created.\n",
    "TASK = 'office_items'\n",
    "\n",
    "# Update this as needed - generally just need one \"bucket\" category\n",
    "# and labeling comes later in Azure ML\n",
    "CATEGORIES = ['office_supplies']\n",
    "\n",
    "# Update this as needed - these are the same object, but different \n",
    "# datasets in case there is need for this like restarting the\n",
    "# experiments with fresh data\n",
    "DATASETS = ['A','B']\n",
    "\n",
    "# --------------------------- NO NEED TO MODIFY THE REST WITHIN THIS CELL ---------------------------\n",
    "\n",
    "DATA_DIR = os.path.join(os.getcwd(),'data/')\n",
    "\n",
    "datasets = {}\n",
    "for name in DATASETS:\n",
    "    datasets[name] = ImageDataset(DATA_DIR + os.sep + TASK + '_' + name, \n",
    "                                  CATEGORIES)\n",
    "\n",
    "print(\"{} task with {} categories defined\".format(TASK, CATEGORIES))"
   ]
  },
  {
   "cell_type": "code",
   "execution_count": null,
   "id": "8c8529a0",
   "metadata": {},
   "outputs": [],
   "source": [
    "if not os.path.exists(DATA_DIR):\n",
    "    os.makedirs(DATA_DIR)\n",
    "    print('Created data directory: {}'.format(DATA_DIR))"
   ]
  },
  {
   "cell_type": "markdown",
   "id": "5b9e4bb8",
   "metadata": {},
   "source": [
    "## Create data collection widget\n",
    "\n",
    "Below we create a data collection widget with `ipywidgets` and `traitlets` and prepare to use the dataset we set up above."
   ]
  },
  {
   "cell_type": "code",
   "execution_count": null,
   "id": "49349905",
   "metadata": {},
   "outputs": [],
   "source": [
    "# initialize active dataset\n",
    "dataset = datasets[DATASETS[0]]\n",
    "\n",
    "# unobserve all callbacks from camera in case we are running this cell for second time\n",
    "camera1.unobserve_all()\n",
    "\n",
    "# create image preview\n",
    "camera_widget = ipywidgets.Image()\n",
    "traitlets.dlink((camera1, 'value'), (camera_widget, 'value'), transform=bgr8_to_jpeg)\n",
    "\n",
    "# create widgets\n",
    "dataset_widget = ipywidgets.Dropdown(options=DATASETS, description='dataset')\n",
    "category_widget = ipywidgets.Dropdown(options=dataset.categories, description='category')\n",
    "count_widget = ipywidgets.IntText(description='count')\n",
    "save_widget = ipywidgets.Button(description='add')\n",
    "\n",
    "# manually update counts at initialization\n",
    "count_widget.value = dataset.get_count(category_widget.value)\n",
    "\n",
    "# sets the active dataset\n",
    "def set_dataset(change):\n",
    "    global dataset\n",
    "    dataset = datasets[change['new']]\n",
    "    count_widget.value = dataset.get_count(category_widget.value)\n",
    "dataset_widget.observe(set_dataset, names='value')\n",
    "\n",
    "# update counts when we select a new category\n",
    "def update_counts(change):\n",
    "    count_widget.value = dataset.get_count(change['new'])\n",
    "category_widget.observe(update_counts, names='value')\n",
    "\n",
    "# save image for category and update counts\n",
    "def save(c):\n",
    "    dataset.save_entry(camera1.value, category_widget.value)\n",
    "    count_widget.value = dataset.get_count(category_widget.value)\n",
    "save_widget.on_click(save)\n",
    "\n",
    "data_collection_widget = ipywidgets.VBox([\n",
    "    ipywidgets.HBox([camera_widget]), dataset_widget, category_widget, count_widget, save_widget\n",
    "])\n",
    "\n",
    "print(\"data_collection_widget created\")"
   ]
  },
  {
   "cell_type": "markdown",
   "id": "5efd26ef",
   "metadata": {},
   "source": [
    "## Show widget\n",
    "\n",
    "View the entire data collection UI.  Use the `add` button to add as many images as you like - there is a counter.  The images are collected locally to your machine in the `data` folder.\n",
    "\n",
    "Plan to collect 150-200 images per class for a decent model.  You may start with ~30-50 to understand the process.  If this is multiclass, collect an even number of images for each class.  Vary the position, lighting, etc. for a more robust model or use data augmentation later on."
   ]
  },
  {
   "cell_type": "code",
   "execution_count": null,
   "id": "a32cb70b",
   "metadata": {},
   "outputs": [],
   "source": [
    "# Combine into one display\n",
    "all_widget = ipywidgets.VBox([\n",
    "    ipywidgets.HBox([data_collection_widget])\n",
    "])\n",
    "\n",
    "display(all_widget)"
   ]
  },
  {
   "cell_type": "markdown",
   "id": "51bc148c",
   "metadata": {},
   "source": [
    "## Release cameras _only_ when done with data collection\n",
    "\n",
    "We are now done with data collection and can detach the camera."
   ]
  },
  {
   "cell_type": "code",
   "execution_count": null,
   "id": "14cb7a73",
   "metadata": {},
   "outputs": [],
   "source": [
    "# Will need if camera is still live or running\n",
    "# If camera will not shut down, use the last line in this cell\n",
    "camera1.running = False\n",
    "try:\n",
    "    camera1.release()\n",
    "    camera1.unobserve(update_image, names='value')\n",
    "except Exception as err:\n",
    "    print(\"Error calling 'unobserve' likely because 'value' not in names.\")\n",
    "    print('Error: {}'.format(err))\n",
    "    \n",
    "# Optionally you may simply stop the Python kernel - uncomment below\n",
    "# os._exit(00)"
   ]
  },
  {
   "cell_type": "markdown",
   "id": "394c035d",
   "metadata": {},
   "source": [
    "## Next steps\n",
    "\n",
    "- Upload the data to Azure ML Workspace and label it for object detection"
   ]
  },
  {
   "cell_type": "code",
   "execution_count": null,
   "id": "9bbfca57",
   "metadata": {},
   "outputs": [],
   "source": []
  }
 ],
 "metadata": {
  "kernelspec": {
   "display_name": "Python 3",
   "language": "python",
   "name": "python3"
  },
  "language_info": {
   "codemirror_mode": {
    "name": "ipython",
    "version": 3
   },
   "file_extension": ".py",
   "mimetype": "text/x-python",
   "name": "python",
   "nbconvert_exporter": "python",
   "pygments_lexer": "ipython3",
   "version": "3.8.10"
  }
 },
 "nbformat": 4,
 "nbformat_minor": 5
}
