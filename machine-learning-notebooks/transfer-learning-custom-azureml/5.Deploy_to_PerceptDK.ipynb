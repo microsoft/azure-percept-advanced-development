{
 "cells": [
  {
   "cell_type": "markdown",
   "id": "71c29186",
   "metadata": {},
   "source": [
    "Copyright (c) Microsoft Corporation.<br>\n",
    "Licensed under the MIT License.\n",
    "\n",
    "# 5. Deploy OpenVINO Model to the Percept DK\n",
    "\n",
    "In this notebook we will:\n",
    "- Deploy the model to the Percept Dev Kit through the Azure Portal\n",
    "\n",
    "## Prerequisites\n",
    "- Converted OpenVINO model (`blob` format)\n",
    "- Azure Storage account \n"
   ]
  },
  {
   "cell_type": "code",
   "execution_count": null,
   "id": "66362d9a",
   "metadata": {},
   "outputs": [],
   "source": [
    "import sys\n",
    "import os\n",
    "import shutil"
   ]
  },
  {
   "cell_type": "markdown",
   "id": "f311c6de",
   "metadata": {},
   "source": [
    "## Package the OpenVINO model as a zip file and upload to blob storage\n",
    "\n",
    "Create a directory and the following files to place in a zip file."
   ]
  },
  {
   "cell_type": "code",
   "execution_count": null,
   "id": "e2bdc040",
   "metadata": {},
   "outputs": [],
   "source": [
    "if not os.path.exists('my_custom_model_folder'):\n",
    "    os.makedirs('my_custom_model_folder', exist_ok=True)"
   ]
  },
  {
   "cell_type": "markdown",
   "id": "fc7a9a61",
   "metadata": {},
   "source": [
    "Change the labels (after `unlabeled`) as needed, adding all classes of objects here, one per line.  `unlabeled` just represents the background class."
   ]
  },
  {
   "cell_type": "code",
   "execution_count": null,
   "id": "837f9f73",
   "metadata": {},
   "outputs": [],
   "source": [
    "%%writefile my_custom_model_folder/labels.txt\n",
    "unlabeled\n",
    "mouse\n",
    "keyboard\n",
    "headphones"
   ]
  },
  {
   "cell_type": "markdown",
   "id": "4013e21b",
   "metadata": {},
   "source": [
    "The following `config.json` is so that the Percept DK may find the labels and model (`.blob`) and need not be modified."
   ]
  },
  {
   "cell_type": "code",
   "execution_count": null,
   "id": "62661741",
   "metadata": {},
   "outputs": [],
   "source": [
    "%%writefile my_custom_model_folder/config.json\n",
    "{\n",
    "    \"DomainType\": \"ssd100\",\n",
    "    \"LabelFileName\": \"labels.txt\",\n",
    "    \"ModelFileName\": \"ssdlite_mobilenet_v2.blob\"\n",
    "}"
   ]
  },
  {
   "cell_type": "markdown",
   "id": "3740665c",
   "metadata": {},
   "source": [
    "Copy the OpenVINO `.blob` model to a new folder."
   ]
  },
  {
   "cell_type": "code",
   "execution_count": null,
   "id": "717506f5",
   "metadata": {},
   "outputs": [],
   "source": [
    "if os.path.exists(os.path.join('experiment_outputs','ssdlite_mobilenet_v2.blob')):\n",
    "    shutil.move(os.path.join('experiment_outputs','ssdlite_mobilenet_v2.blob'), os.path.join('my_custom_model_folder','ssdlite_mobilenet_v2.blob'))"
   ]
  },
  {
   "cell_type": "markdown",
   "id": "aa611174",
   "metadata": {},
   "source": [
    "Create a zip file for the Percept DK Vision module to use with the `labels.txt`, `config.json` and the model `.blob` file inside of it."
   ]
  },
  {
   "cell_type": "code",
   "execution_count": null,
   "id": "fb0b96e3",
   "metadata": {},
   "outputs": [],
   "source": [
    "shutil.make_archive('my_custom_model', 'zip', 'my_custom_model_folder')"
   ]
  },
  {
   "cell_type": "markdown",
   "id": "4bfe4b4a",
   "metadata": {},
   "source": [
    "## Deploy the model to the Percept DK\n",
    "\n",
    "1. In the [Azure Portal](https://portal.azure.com) navigate to your Storage Account.\n",
    "2. Go to Containers under Data storage. \n",
    "\n",
    "![go to containers](article_images/azurestorage_containers.png)\n",
    "\n",
    "3. Create a new container (this can be private with the use of SAS URLs for access or anonymous access/public).\n",
    "4. Go to the container and upload the `my_custom_model.zip` file.\n",
    "5. Click on the uploaded filename listed under the container and a new pane should open up with more properties.\n",
    "6. If public/anonymous access, simply copy the URL under Properties and if private, generate a SAS URL and copy the Blob SAS URL.\n",
    "7. In the Azure Portal navigate to your IoT Hub wherein the Percept DK edge device is specified.\n",
    "8. Go to IoT Edge under Automatic Device Management.\n",
    "9. Select your Percept DK device ID.\n",
    "10. Select the `azureeyemodule` as follows.\n",
    "\n",
    "![azureeyemodule](article_images/azureiothub_select_eye.png)\n",
    "\n",
    "11. In the IoT Edge Module Details, select Module Identity Twin as follows.\n",
    "\n",
    "![module identity twin](article_images/azureiothub_twin.png)\n",
    "\n",
    "12. Update the `ModelZipUrl` value to hold the Blob URL created above as follows and press Save.\n",
    "\n",
    "![update modelzipurl](article_images/azureiothub_modelzipurl.png)\n",
    "\n",
    "This can be done programmatically as well.  See [this notebook](https://github.com/microsoft/azure-percept-advanced-development/blob/main/machine-learning-notebooks/transfer-learning/transfer-learning-using-ssd.ipynb) for an example of how to do this in Python (scroll to the OpenVINO section at the end)."
   ]
  },
  {
   "cell_type": "markdown",
   "id": "7ecd5c9e",
   "metadata": {},
   "source": [
    "## View the results\n",
    "\n",
    "You will be able to view the results of deploying your new model at `https://<ip-address-of-your-device>:3000` as a live webstream.  You should see your object of interest in the web stream as follows as long as you have a good model (usually from carefully training on 100s of images per class).  The following model was created, for reference, with about 50 images per class (ideally, we would have much more data in the future).\n",
    "\n",
    "<img src=\"article_images/percept_webstream.png\" width=\"50%\">\n",
    "\n",
    "You may use a network stream player like [VLC](https://www.videolan.org/vlc/).  The RTSP to use in this case would be: `rtsp:///ip-address-of-your-device:8554/result`."
   ]
  },
  {
   "cell_type": "code",
   "execution_count": null,
   "id": "ab6491be",
   "metadata": {},
   "outputs": [],
   "source": []
  }
 ],
 "metadata": {
  "kernelspec": {
   "display_name": "Python 3",
   "language": "python",
   "name": "python3"
  },
  "language_info": {
   "codemirror_mode": {
    "name": "ipython",
    "version": 3
   },
   "file_extension": ".py",
   "mimetype": "text/x-python",
   "name": "python",
   "nbconvert_exporter": "python",
   "pygments_lexer": "ipython3",
   "version": "3.8.10"
  }
 },
 "nbformat": 4,
 "nbformat_minor": 5
}
