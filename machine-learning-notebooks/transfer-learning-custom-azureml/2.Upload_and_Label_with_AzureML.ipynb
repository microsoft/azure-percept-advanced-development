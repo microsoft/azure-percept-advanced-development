{
 "cells": [
  {
   "cell_type": "markdown",
   "id": "b841d754",
   "metadata": {},
   "source": [
    "Copyright (c) Microsoft Corporation.<br>\n",
    "Licensed under the MIT License.\n",
    "\n",
    "# 2. Upload Data to the Azure ML Workspace and Label\n",
    "\n",
    "In this notebook we will:\n",
    "- Upload the image data previously collected to the Azure ML Workspace default Blob Storage\n",
    "\n",
    "## Prerequisites\n",
    "- Azure ML Workspace - [Create in Azure Portal](https://docs.microsoft.com/en-us/azure/machine-learning/how-to-manage-workspace?tabs=azure-portal) (the `config.json` will be needed as well which may be downloaded from the Portal)\n",
    "- Data from a camera on the Percept DK (residing in the `data` folder on the local machine or wherever the notebooks are being run) - how-to in `1.Collect_Image_Data_from_PerceptDK.ipynb` notebook"
   ]
  },
  {
   "cell_type": "markdown",
   "id": "10217741",
   "metadata": {},
   "source": [
    "## Imports"
   ]
  },
  {
   "cell_type": "code",
   "execution_count": null,
   "id": "e36d10d7",
   "metadata": {},
   "outputs": [],
   "source": [
    "from azureml.core import Workspace\n",
    "from azureml.core import VERSION\n",
    "print(VERSION)"
   ]
  },
  {
   "cell_type": "markdown",
   "id": "8c48f986",
   "metadata": {},
   "source": [
    "## Connect to the Azure ML Workspace\n",
    "\n",
    "This step automatically looks for the `config.json` file base directory. You may download your `config.json` from the Azure Portal Azure ML Workspace resource - in the Overview pane as shown below. \n",
    "\n",
    "![](article_images/azureml_download_config.png)\n",
    "\n",
    "Then you may drag and drop the `config.json` from your local file system/machine into the file explorer to the left in JupyterLab .\n",
    "\n",
    "The first time you run this cell it will ask you to perform interactive login to Azure in another browser window."
   ]
  },
  {
   "cell_type": "code",
   "execution_count": null,
   "id": "366ccace",
   "metadata": {},
   "outputs": [],
   "source": [
    "ws = Workspace.from_config()"
   ]
  },
  {
   "cell_type": "markdown",
   "id": "eb0d99a8",
   "metadata": {},
   "source": [
    "## Upload data to Azure\n",
    "\n",
    "Based on [this](https://docs.microsoft.com/en-us/azure/machine-learning/tutorial-1st-experiment-bring-data#upload) guide, let's connect our Azure ML Workspace to our notebook.  The `target_path` refers to a path in the Azure ML default DataStore."
   ]
  },
  {
   "cell_type": "code",
   "execution_count": null,
   "id": "c98de379",
   "metadata": {},
   "outputs": [],
   "source": [
    "datastore = ws.get_default_datastore()\n",
    "datastore.upload(src_dir='./data/office_items_A/office_supplies',\n",
    "                 target_path='office_supplies',\n",
    "                 overwrite=False)"
   ]
  },
  {
   "cell_type": "markdown",
   "id": "20a1dac1",
   "metadata": {},
   "source": [
    "## Label data in Azure ML Studio\n",
    "\n",
    "At this point visit your Workspace in the Azure Portal and open up Azure ML Studio (or go to https://ml.azure.com and select your workspace).  Start a new labeling project (or pick up from where you left off).  For a good how-to check out [this guide](https://docs.microsoft.com/en-us/azure/machine-learning/how-to-create-labeling-projects).\n",
    "\n",
    "![where to click for azure ml labeling project](article_images/azureml_click_on_labeling.png)\n",
    "\n",
    "Plan to take some time to label, depending on how many images you collected.  Here is the labeling tool, visually:\n",
    "\n",
    "![labeling objects](article_images/azureml_labeling_objects.png)\n",
    "\n",
    "Once labeling is done and there are no more tasks, export the labels as COCO-format.\n",
    "\n",
    "![export labels](article_images/azureml_export_coco.png)\n",
    "\n"
   ]
  },
  {
   "cell_type": "markdown",
   "id": "9e3a86bd",
   "metadata": {},
   "source": [
    "## Next steps\n",
    "\n",
    "- Train an SSD MobileNet V2 model with the TensorFlow Object Detection API using Azure ML"
   ]
  },
  {
   "cell_type": "code",
   "execution_count": null,
   "id": "c2bea445",
   "metadata": {},
   "outputs": [],
   "source": []
  }
 ],
 "metadata": {
  "kernelspec": {
   "display_name": "Python 3",
   "language": "python",
   "name": "python3"
  },
  "language_info": {
   "codemirror_mode": {
    "name": "ipython",
    "version": 3
   },
   "file_extension": ".py",
   "mimetype": "text/x-python",
   "name": "python",
   "nbconvert_exporter": "python",
   "pygments_lexer": "ipython3",
   "version": "3.8.10"
  }
 },
 "nbformat": 4,
 "nbformat_minor": 5
}
